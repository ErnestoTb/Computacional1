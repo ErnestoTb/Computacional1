{
 "cells": [
  {
   "cell_type": "code",
   "execution_count": 1,
   "metadata": {
    "collapsed": true
   },
   "outputs": [],
   "source": [
    "import pandas as pd\n",
    "import scipy as sp\n",
    "import matplotlib.pyplot as plt\n",
    "from scipy.fftpack import fft, fftfreq, fftshift\n",
    "import datetime\n",
    "from datetime import datetime"
   ]
  },
  {
   "cell_type": "code",
   "execution_count": 2,
   "metadata": {
    "collapsed": false
   },
   "outputs": [],
   "source": [
    "datos= pd.read_csv(\"szl_data.csv\", names = (\"Anio\", \"Mes\", \"dia\", \"Hora\", \"Altura\" ), header = 0)\n",
    "#altura está en mm"
   ]
  },
  {
   "cell_type": "code",
   "execution_count": 3,
   "metadata": {
    "collapsed": false
   },
   "outputs": [],
   "source": [
    "df = datos.dropna()"
   ]
  },
  {
   "cell_type": "code",
   "execution_count": 4,
   "metadata": {
    "collapsed": false
   },
   "outputs": [],
   "source": [
    "df['date']= df.apply(lambda x:datetime.strptime(\"{0} {1} {2} {3}\".format(x[u'Anio'],x[u'Mes'], x[u'dia'], x[u'Hora']), \"%Y %m %d %H\"),axis=1)"
   ]
  },
  {
   "cell_type": "code",
   "execution_count": 5,
   "metadata": {
    "collapsed": false
   },
   "outputs": [],
   "source": [
    "df['Altura'] =pd.to_numeric(df['Altura'], errors = 'coerse')"
   ]
  },
  {
   "cell_type": "code",
   "execution_count": 6,
   "metadata": {
    "collapsed": false
   },
   "outputs": [
    {
     "data": {
      "text/html": [
       "<div>\n",
       "<table border=\"1\" class=\"dataframe\">\n",
       "  <thead>\n",
       "    <tr style=\"text-align: right;\">\n",
       "      <th></th>\n",
       "      <th>Anio</th>\n",
       "      <th>Mes</th>\n",
       "      <th>dia</th>\n",
       "      <th>Hora</th>\n",
       "      <th>Altura</th>\n",
       "      <th>date</th>\n",
       "    </tr>\n",
       "  </thead>\n",
       "  <tbody>\n",
       "    <tr>\n",
       "      <th>0</th>\n",
       "      <td>2016</td>\n",
       "      <td>1</td>\n",
       "      <td>1</td>\n",
       "      <td>0</td>\n",
       "      <td>670.0</td>\n",
       "      <td>2016-01-01 00:00:00</td>\n",
       "    </tr>\n",
       "    <tr>\n",
       "      <th>1</th>\n",
       "      <td>2016</td>\n",
       "      <td>1</td>\n",
       "      <td>1</td>\n",
       "      <td>1</td>\n",
       "      <td>506.0</td>\n",
       "      <td>2016-01-01 01:00:00</td>\n",
       "    </tr>\n",
       "    <tr>\n",
       "      <th>2</th>\n",
       "      <td>2016</td>\n",
       "      <td>1</td>\n",
       "      <td>1</td>\n",
       "      <td>2</td>\n",
       "      <td>384.0</td>\n",
       "      <td>2016-01-01 02:00:00</td>\n",
       "    </tr>\n",
       "    <tr>\n",
       "      <th>3</th>\n",
       "      <td>2016</td>\n",
       "      <td>1</td>\n",
       "      <td>1</td>\n",
       "      <td>3</td>\n",
       "      <td>330.0</td>\n",
       "      <td>2016-01-01 03:00:00</td>\n",
       "    </tr>\n",
       "    <tr>\n",
       "      <th>4</th>\n",
       "      <td>2016</td>\n",
       "      <td>1</td>\n",
       "      <td>1</td>\n",
       "      <td>4</td>\n",
       "      <td>356.0</td>\n",
       "      <td>2016-01-01 04:00:00</td>\n",
       "    </tr>\n",
       "  </tbody>\n",
       "</table>\n",
       "</div>"
      ],
      "text/plain": [
       "   Anio  Mes  dia  Hora  Altura                date\n",
       "0  2016    1    1     0   670.0 2016-01-01 00:00:00\n",
       "1  2016    1    1     1   506.0 2016-01-01 01:00:00\n",
       "2  2016    1    1     2   384.0 2016-01-01 02:00:00\n",
       "3  2016    1    1     3   330.0 2016-01-01 03:00:00\n",
       "4  2016    1    1     4   356.0 2016-01-01 04:00:00"
      ]
     },
     "execution_count": 6,
     "metadata": {},
     "output_type": "execute_result"
    }
   ],
   "source": [
    "df.head()"
   ]
  },
  {
   "cell_type": "code",
   "execution_count": 7,
   "metadata": {
    "collapsed": false
   },
   "outputs": [],
   "source": [
    "df = df.dropna()"
   ]
  },
  {
   "cell_type": "code",
   "execution_count": 8,
   "metadata": {
    "collapsed": false
   },
   "outputs": [],
   "source": [
    "df_ft = df[(df['date'] >= '2016-01-01 00:00:00') & (df['date'] <= '2016-03-31 23:00:00')]"
   ]
  },
  {
   "cell_type": "code",
   "execution_count": 9,
   "metadata": {
    "collapsed": false
   },
   "outputs": [
    {
     "data": {
      "text/html": [
       "<div>\n",
       "<table border=\"1\" class=\"dataframe\">\n",
       "  <thead>\n",
       "    <tr style=\"text-align: right;\">\n",
       "      <th></th>\n",
       "      <th>Anio</th>\n",
       "      <th>Mes</th>\n",
       "      <th>dia</th>\n",
       "      <th>Hora</th>\n",
       "      <th>Altura</th>\n",
       "      <th>date</th>\n",
       "    </tr>\n",
       "  </thead>\n",
       "  <tbody>\n",
       "    <tr>\n",
       "      <th>0</th>\n",
       "      <td>2016</td>\n",
       "      <td>1</td>\n",
       "      <td>1</td>\n",
       "      <td>0</td>\n",
       "      <td>670.0</td>\n",
       "      <td>2016-01-01 00:00:00</td>\n",
       "    </tr>\n",
       "    <tr>\n",
       "      <th>1</th>\n",
       "      <td>2016</td>\n",
       "      <td>1</td>\n",
       "      <td>1</td>\n",
       "      <td>1</td>\n",
       "      <td>506.0</td>\n",
       "      <td>2016-01-01 01:00:00</td>\n",
       "    </tr>\n",
       "    <tr>\n",
       "      <th>2</th>\n",
       "      <td>2016</td>\n",
       "      <td>1</td>\n",
       "      <td>1</td>\n",
       "      <td>2</td>\n",
       "      <td>384.0</td>\n",
       "      <td>2016-01-01 02:00:00</td>\n",
       "    </tr>\n",
       "    <tr>\n",
       "      <th>3</th>\n",
       "      <td>2016</td>\n",
       "      <td>1</td>\n",
       "      <td>1</td>\n",
       "      <td>3</td>\n",
       "      <td>330.0</td>\n",
       "      <td>2016-01-01 03:00:00</td>\n",
       "    </tr>\n",
       "    <tr>\n",
       "      <th>4</th>\n",
       "      <td>2016</td>\n",
       "      <td>1</td>\n",
       "      <td>1</td>\n",
       "      <td>4</td>\n",
       "      <td>356.0</td>\n",
       "      <td>2016-01-01 04:00:00</td>\n",
       "    </tr>\n",
       "  </tbody>\n",
       "</table>\n",
       "</div>"
      ],
      "text/plain": [
       "   Anio  Mes  dia  Hora  Altura                date\n",
       "0  2016    1    1     0   670.0 2016-01-01 00:00:00\n",
       "1  2016    1    1     1   506.0 2016-01-01 01:00:00\n",
       "2  2016    1    1     2   384.0 2016-01-01 02:00:00\n",
       "3  2016    1    1     3   330.0 2016-01-01 03:00:00\n",
       "4  2016    1    1     4   356.0 2016-01-01 04:00:00"
      ]
     },
     "execution_count": 9,
     "metadata": {},
     "output_type": "execute_result"
    }
   ],
   "source": [
    "df_ft.head()"
   ]
  },
  {
   "cell_type": "code",
   "execution_count": 10,
   "metadata": {
    "collapsed": false
   },
   "outputs": [
    {
     "data": {
      "text/plain": [
       "Anio               int64:dense\n",
       "Mes                int64:dense\n",
       "dia                int64:dense\n",
       "Hora               int64:dense\n",
       "Altura           float64:dense\n",
       "date      datetime64[ns]:dense\n",
       "dtype: object"
      ]
     },
     "execution_count": 10,
     "metadata": {},
     "output_type": "execute_result"
    }
   ],
   "source": [
    "df_ft.ftypes"
   ]
  },
  {
   "cell_type": "code",
   "execution_count": 11,
   "metadata": {
    "collapsed": false
   },
   "outputs": [
    {
     "data": {
      "text/html": [
       "<div>\n",
       "<table border=\"1\" class=\"dataframe\">\n",
       "  <thead>\n",
       "    <tr style=\"text-align: right;\">\n",
       "      <th></th>\n",
       "      <th>Anio</th>\n",
       "      <th>Mes</th>\n",
       "      <th>dia</th>\n",
       "      <th>Hora</th>\n",
       "      <th>Altura</th>\n",
       "      <th>date</th>\n",
       "    </tr>\n",
       "  </thead>\n",
       "  <tbody>\n",
       "    <tr>\n",
       "      <th>2179</th>\n",
       "      <td>2016</td>\n",
       "      <td>3</td>\n",
       "      <td>31</td>\n",
       "      <td>19</td>\n",
       "      <td>266.0</td>\n",
       "      <td>2016-03-31 19:00:00</td>\n",
       "    </tr>\n",
       "    <tr>\n",
       "      <th>2180</th>\n",
       "      <td>2016</td>\n",
       "      <td>3</td>\n",
       "      <td>31</td>\n",
       "      <td>20</td>\n",
       "      <td>366.0</td>\n",
       "      <td>2016-03-31 20:00:00</td>\n",
       "    </tr>\n",
       "    <tr>\n",
       "      <th>2181</th>\n",
       "      <td>2016</td>\n",
       "      <td>3</td>\n",
       "      <td>31</td>\n",
       "      <td>21</td>\n",
       "      <td>503.0</td>\n",
       "      <td>2016-03-31 21:00:00</td>\n",
       "    </tr>\n",
       "    <tr>\n",
       "      <th>2182</th>\n",
       "      <td>2016</td>\n",
       "      <td>3</td>\n",
       "      <td>31</td>\n",
       "      <td>22</td>\n",
       "      <td>645.0</td>\n",
       "      <td>2016-03-31 22:00:00</td>\n",
       "    </tr>\n",
       "    <tr>\n",
       "      <th>2183</th>\n",
       "      <td>2016</td>\n",
       "      <td>3</td>\n",
       "      <td>31</td>\n",
       "      <td>23</td>\n",
       "      <td>763.0</td>\n",
       "      <td>2016-03-31 23:00:00</td>\n",
       "    </tr>\n",
       "  </tbody>\n",
       "</table>\n",
       "</div>"
      ],
      "text/plain": [
       "      Anio  Mes  dia  Hora  Altura                date\n",
       "2179  2016    3   31    19   266.0 2016-03-31 19:00:00\n",
       "2180  2016    3   31    20   366.0 2016-03-31 20:00:00\n",
       "2181  2016    3   31    21   503.0 2016-03-31 21:00:00\n",
       "2182  2016    3   31    22   645.0 2016-03-31 22:00:00\n",
       "2183  2016    3   31    23   763.0 2016-03-31 23:00:00"
      ]
     },
     "execution_count": 11,
     "metadata": {},
     "output_type": "execute_result"
    }
   ],
   "source": [
    "df_ft.tail()"
   ]
  },
  {
   "cell_type": "code",
   "execution_count": 12,
   "metadata": {
    "collapsed": false
   },
   "outputs": [
    {
     "data": {
      "text/html": [
       "<div>\n",
       "<table border=\"1\" class=\"dataframe\">\n",
       "  <thead>\n",
       "    <tr style=\"text-align: right;\">\n",
       "      <th></th>\n",
       "      <th>Anio</th>\n",
       "      <th>Mes</th>\n",
       "      <th>dia</th>\n",
       "      <th>Hora</th>\n",
       "      <th>Altura</th>\n",
       "    </tr>\n",
       "  </thead>\n",
       "  <tbody>\n",
       "    <tr>\n",
       "      <th>count</th>\n",
       "      <td>2184.0</td>\n",
       "      <td>2184.000000</td>\n",
       "      <td>2184.000000</td>\n",
       "      <td>2184.000000</td>\n",
       "      <td>2184.000000</td>\n",
       "    </tr>\n",
       "    <tr>\n",
       "      <th>mean</th>\n",
       "      <td>2016.0</td>\n",
       "      <td>2.000000</td>\n",
       "      <td>15.681319</td>\n",
       "      <td>11.500000</td>\n",
       "      <td>787.375000</td>\n",
       "    </tr>\n",
       "    <tr>\n",
       "      <th>std</th>\n",
       "      <td>0.0</td>\n",
       "      <td>0.825609</td>\n",
       "      <td>8.778701</td>\n",
       "      <td>6.923772</td>\n",
       "      <td>452.832935</td>\n",
       "    </tr>\n",
       "    <tr>\n",
       "      <th>min</th>\n",
       "      <td>2016.0</td>\n",
       "      <td>1.000000</td>\n",
       "      <td>1.000000</td>\n",
       "      <td>0.000000</td>\n",
       "      <td>-297.000000</td>\n",
       "    </tr>\n",
       "    <tr>\n",
       "      <th>25%</th>\n",
       "      <td>2016.0</td>\n",
       "      <td>1.000000</td>\n",
       "      <td>8.000000</td>\n",
       "      <td>5.750000</td>\n",
       "      <td>476.000000</td>\n",
       "    </tr>\n",
       "    <tr>\n",
       "      <th>50%</th>\n",
       "      <td>2016.0</td>\n",
       "      <td>2.000000</td>\n",
       "      <td>16.000000</td>\n",
       "      <td>11.500000</td>\n",
       "      <td>775.000000</td>\n",
       "    </tr>\n",
       "    <tr>\n",
       "      <th>75%</th>\n",
       "      <td>2016.0</td>\n",
       "      <td>3.000000</td>\n",
       "      <td>23.000000</td>\n",
       "      <td>17.250000</td>\n",
       "      <td>1124.500000</td>\n",
       "    </tr>\n",
       "    <tr>\n",
       "      <th>max</th>\n",
       "      <td>2016.0</td>\n",
       "      <td>3.000000</td>\n",
       "      <td>31.000000</td>\n",
       "      <td>23.000000</td>\n",
       "      <td>1886.000000</td>\n",
       "    </tr>\n",
       "  </tbody>\n",
       "</table>\n",
       "</div>"
      ],
      "text/plain": [
       "         Anio          Mes          dia         Hora       Altura\n",
       "count  2184.0  2184.000000  2184.000000  2184.000000  2184.000000\n",
       "mean   2016.0     2.000000    15.681319    11.500000   787.375000\n",
       "std       0.0     0.825609     8.778701     6.923772   452.832935\n",
       "min    2016.0     1.000000     1.000000     0.000000  -297.000000\n",
       "25%    2016.0     1.000000     8.000000     5.750000   476.000000\n",
       "50%    2016.0     2.000000    16.000000    11.500000   775.000000\n",
       "75%    2016.0     3.000000    23.000000    17.250000  1124.500000\n",
       "max    2016.0     3.000000    31.000000    23.000000  1886.000000"
      ]
     },
     "execution_count": 12,
     "metadata": {},
     "output_type": "execute_result"
    }
   ],
   "source": [
    "df_ft.describe()"
   ]
  },
  {
   "cell_type": "code",
   "execution_count": 13,
   "metadata": {
    "collapsed": false
   },
   "outputs": [
    {
     "data": {
      "image/png": "[encoded data removed]",
      "text/plain": [
       "<matplotlib.figure.Figure at 0x26441437278>"
      ]
     },
     "metadata": {},
     "output_type": "display_data"
    }
   ],
   "source": [
    "from scipy.fftpack import fft, fftfreq, fftshift\n",
    "import numpy as np\n",
    "# numero de datos\n",
    "N = 2184\n",
    "# Separacion de tiempo entre cada medicion\n",
    "T = 1.0\n",
    "\n",
    "#aplicacion de la transformada de fourier a los datos\n",
    "y = df_ft[\"Altura\"]/1000\n",
    "yf = fft(y)\n",
    " #Cambio de variable de tiempo a uno de frecuencias.\n",
    "xf = fftfreq(N, T)\n",
    "xf = fftshift(xf)\n",
    "# Conjunto de datos dados por la transformada de fourier para graficar\n",
    "yplot = fftshift(yf)\n",
    "\n",
    "#grafica de lo obtenido con la transformada de Fourier\n",
    "import matplotlib.pyplot as plt\n",
    "plt.plot(xf, 2.0/N *np.abs(yplot), 'b-')\n",
    "plt.xlim(-0.01, 0.1) \n",
    "plt.grid(True)\n",
    "plt.xlabel('Frecuencia [1/hora]', fontsize=14)\n",
    "plt.ylabel('Amplitud [m]', fontsize=14)\n",
    "plt.title('Análisis armónico de la marea presentada en El Sauzal, Ensenada (Ene-Mar 2016)', fontsize=15)\n",
    "fig = plt.gcf()\n",
    "fig.set_size_inches(15, 8)\n",
    "plt.show()"
   ]
  },
  {
   "cell_type": "code",
   "execution_count": 14,
   "metadata": {
    "collapsed": false
   },
   "outputs": [
    {
     "data": {
      "text/plain": [
       "array([ 1.57475   ,  0.0335325 ,  0.01500872, ...,  0.02130602,\n",
       "        0.01500872,  0.0335325 ])"
      ]
     },
     "execution_count": 14,
     "metadata": {},
     "output_type": "execute_result"
    }
   ],
   "source": [
    "a = 2*np.absolute(yf)/N #N es el numero de datos especificado en donde se trabajó con la transformada rapida de fourier\n",
    "a"
   ]
  },
  {
   "cell_type": "code",
   "execution_count": 15,
   "metadata": {
    "collapsed": false
   },
   "outputs": [
    {
     "data": {
      "text/plain": [
       "1092.0"
      ]
     },
     "execution_count": 15,
     "metadata": {},
     "output_type": "execute_result"
    }
   ],
   "source": [
    "N/2"
   ]
  },
  {
   "cell_type": "code",
   "execution_count": 16,
   "metadata": {
    "collapsed": false
   },
   "outputs": [
    {
     "name": "stdout",
     "output_type": "stream",
     "text": [
      "(array([   0,   84,   85,   90,   91,   92,  172,  173,  174,  175,  176,\n",
      "        177,  182, 2002, 2007, 2008, 2009, 2010, 2011, 2012, 2092, 2093,\n",
      "       2094, 2099, 2100], dtype=int64),)\n"
     ]
    },
    {
     "data": {
      "text/plain": [
       "array([ 1.57475   ,  0.08407833,  0.12232613,  0.07073893,  0.24423641,\n",
       "        0.0927277 ,  0.05282979,  0.09833326,  0.06747509,  0.10838502,\n",
       "        0.46578116,  0.06007306,  0.21668037,  0.21668037,  0.06007306,\n",
       "        0.46578116,  0.10838502,  0.06747509,  0.09833326,  0.05282979,\n",
       "        0.0927277 ,  0.24423641,  0.07073893,  0.12232613,  0.08407833])"
      ]
     },
     "execution_count": 16,
     "metadata": {},
     "output_type": "execute_result"
    }
   ],
   "source": [
    "\n",
    "print(np.where(a[:,]>0.045))\n",
    "b= a[a[:,]>0.045]\n",
    "b"
   ]
  },
  {
   "cell_type": "code",
   "execution_count": 17,
   "metadata": {
    "collapsed": false
   },
   "outputs": [
    {
     "data": {
      "text/plain": [
       "12.6242774566474"
      ]
     },
     "execution_count": 17,
     "metadata": {},
     "output_type": "execute_result"
    }
   ],
   "source": [
    "1/xf[int(1092 +173),]"
   ]
  },
  {
   "cell_type": "code",
   "execution_count": 24,
   "metadata": {
    "collapsed": false
   },
   "outputs": [
    {
     "name": "stdout",
     "output_type": "stream",
     "text": [
      "Primer Armónico notorio\n",
      "Amplitud= 0.122326127235\n",
      "frecuencia= 0.0389194139194\n",
      "periodo 25.6941176471\n",
      "\n",
      "Segundo Armónico notorio\n",
      "Amplitud= 0.244236410756\n",
      "frecuencia= 0.0416666666667\n",
      "periodo 24.0\n",
      "\n",
      "Tercer Armónico notorio\n",
      "Amplitud= 0.0983332612722\n",
      "frecuencia= 0.0792124542125\n",
      "periodo 12.6242774566\n",
      "\n",
      "Cuarto armónico notorio\n",
      "Amplitud= 0.465781162577\n",
      "frecuencia= 0.0805860805861\n",
      "periodo 12.4090909091\n",
      "\n",
      "Quinto armónico notorio\n",
      "Amplitud= 0.216680372606\n",
      "frecuencia= 0.0833333333333\n",
      "periodo 12.0\n",
      "\n",
      "A0= 0.787375\n"
     ]
    }
   ],
   "source": [
    "#La 0 es la que se encuentra en el origen, pues es la altura media que se presenta para las mareas en Monterey\n",
    "print( 'Primer Armónico notorio')\n",
    "print('Amplitud=',2.0*np.absolute(yf[85,]/N))\n",
    "print('frecuencia=', xf[int(1092 +85),])\n",
    "print('periodo', 1/xf[int(1092 +85),])\n",
    "print()\n",
    "\n",
    "print('Segundo Armónico notorio')\n",
    "print('Amplitud=',2.0*np.absolute(yf[91,]/N))\n",
    "print('frecuencia=', xf[int(1092 +91),])\n",
    "print('periodo', 1/xf[int(1092 +91),])\n",
    "\n",
    "print()\n",
    "print('Tercer Armónico notorio')\n",
    "print('Amplitud=',2.0*np.absolute(yf[173,]/N))\n",
    "print('frecuencia=', xf[int(1092 +173),])\n",
    "print('periodo', 1/xf[int(1092 +173),])\n",
    "\n",
    "print()\n",
    "print('Cuarto armónico notorio')\n",
    "print('Amplitud=',2.0*np.absolute(yf[176,]/N))\n",
    "print('frecuencia=', xf[int(1092 +176),])\n",
    "print('periodo', 1/xf[int(1092 +176),])\n",
    "\n",
    "print()\n",
    "print('Quinto armónico notorio')\n",
    "print('Amplitud=',2.0*np.absolute(yf[182,]/N))\n",
    "print('frecuencia=', xf[int(1092 +182),])\n",
    "print('periodo', 1/xf[int(1092 +182),])\n",
    "print()\n",
    "#Amltura media de el Sauzal\n",
    "print('A0=', np.absolute(yf[0,]/N))"
   ]
  },
  {
   "cell_type": "code",
   "execution_count": 19,
   "metadata": {
    "collapsed": false
   },
   "outputs": [
    {
     "name": "stdout",
     "output_type": "stream",
     "text": [
      "Armonico no notorio\n",
      "Amplitud= 0.0840783278453\n",
      "frecuencia= 0.0384615384615\n",
      "periodo 26.0\n",
      "\n",
      "Armonico no muy notorio\n",
      "Amplitud= 0.0707389343314\n",
      "frecuencia= 0.0412087912088\n",
      "periodo 24.2666666667\n",
      "\n",
      "Armonico no muy notorio\n",
      "Amplitud= 0.0927277029147\n",
      "frecuencia= 0.0421245421245\n",
      "periodo 23.7391304348\n",
      "\n",
      "Armonico no muy notorio\n",
      "Amplitud= 0.0528297889939\n",
      "frecuencia= 0.0787545787546\n",
      "periodo 12.6976744186\n",
      "\n",
      "Armonico no muy notorio\n",
      "Amplitud= 0.0674750941413\n",
      "frecuencia= 0.0796703296703\n",
      "periodo 12.5517241379\n",
      "\n",
      "Armonico no muy notorio\n",
      "Amplitud= 0.108385016739\n",
      "frecuencia= 0.0801282051282\n",
      "periodo 12.48\n",
      "\n",
      "Armonico no muy notorio\n",
      "Amplitud= 0.0600730646089\n",
      "frecuencia= 0.081043956044\n",
      "periodo 12.3389830508\n",
      "\n"
     ]
    }
   ],
   "source": [
    "#otros armónicos\n",
    "print( 'Armonico no notorio')\n",
    "print('Amplitud=', 2.0*np.absolute(yf[84,]/N))\n",
    "print('frecuencia=', xf[int(N/2 +84),])\n",
    "print('periodo', 1/xf[int(1092 +84),])\n",
    "print()\n",
    "print( 'Armonico no muy notorio')\n",
    "print('Amplitud=',2.0*np.absolute(yf[90,]/N))\n",
    "print('frecuencia=', xf[int(1092 +90),])\n",
    "print('periodo', 1/xf[int(1092 +90),])\n",
    "print()\n",
    "print( 'Armonico no muy notorio')\n",
    "print('Amplitud=',2.0*np.absolute(yf[92,]/N))\n",
    "print('frecuencia=', xf[int(1092 +92),])\n",
    "print('periodo', 1/xf[int(1092 +92),])\n",
    "print()\n",
    "print( 'Armonico no muy notorio')\n",
    "print('Amplitud=',2.0*np.absolute(yf[172,]/N))\n",
    "print('frecuencia=', xf[int(1092 +172),])\n",
    "print('periodo', 1/xf[int(1092 +172),])\n",
    "print()\n",
    "print( 'Armonico no muy notorio')\n",
    "print('Amplitud=',2.0*np.absolute(yf[174,]/N))\n",
    "print('frecuencia=', xf[int(1092 +174),])\n",
    "print('periodo', 1/xf[int(1092 +174),])\n",
    "print()\n",
    "print( 'Armonico no muy notorio')\n",
    "print('Amplitud=',2.0*np.absolute(yf[175,]/N))\n",
    "print('frecuencia=', xf[int(1092 +175),])\n",
    "print('periodo', 1/xf[int(1092 +175),])\n",
    "print()\n",
    "print( 'Armonico no muy notorio')\n",
    "print('Amplitud=',2.0*np.absolute(yf[177,]/N))\n",
    "print('frecuencia=', xf[int(1092 +177),])\n",
    "print('periodo', 1/xf[int(1092 +177),])\n",
    "print()\n"
   ]
  },
  {
   "cell_type": "code",
   "execution_count": 30,
   "metadata": {
    "collapsed": false
   },
   "outputs": [
    {
     "data": {
      "image/png": "[encoded data removed]",
      "text/plain": [
       "<matplotlib.figure.Figure at 0x2644397e4a8>"
      ]
     },
     "metadata": {},
     "output_type": "display_data"
    }
   ],
   "source": [
    "fig = plt.gcf()\n",
    "fig.set_size_inches(15, 8)\n",
    "\n",
    "plt.plot(xf, 2.0/N *np.abs(yplot), 'b-')\n",
    "plt.xlim(-0.01, 0.10) \n",
    "plt.grid(True)\n",
    "plt.xlabel('Frecuencia [1/hora]', fontsize=14)\n",
    "plt.ylabel('Amplitud [m]', fontsize=14)\n",
    "plt.title('Análisis armónico de la marea presentada en El Sauzal, Ensenada (Ene-Mar 2016)', fontsize=15)\n",
    "\n",
    "plt.text(0, 2*0.787375, '$A_0$')\n",
    "plt.text(0.0389194139194, 0.122326127235, '$O_1$')\n",
    "plt.text(0.0416666666667, 0.244236410756, '$S_1$')\n",
    "plt.text(0.077, 0.0983332612722, '$N_2$')\n",
    "plt.text(0.0805860805861, 0.465781162577, '$M_2$')\n",
    "plt.text(0.0833333333333, 0.216680372606, '$S_2$')\n",
    "\n",
    "plt.text(0.040, 0.0927277029147, '$P_1$')\n",
    "plt.text(0.038, 0.0840783278453, r'$\\rho$')\n",
    "plt.text(0.081043956044, 0.0600730646089, r'$\\lambda_2$')\n",
    "\n",
    "plt.show()\n"
   ]
  },
  {
   "cell_type": "code",
   "execution_count": null,
   "metadata": {
    "collapsed": true
   },
   "outputs": [],
   "source": []
  }
 ],
 "metadata": {
  "anaconda-cloud": {},
  "kernelspec": {
   "display_name": "Python 3",
   "language": "python",
   "name": "python3"
  },
  "language_info": {
   "codemirror_mode": {
    "name": "ipython",
    "version": 3
   },
   "file_extension": ".py",
   "mimetype": "text/x-python",
   "name": "python",
   "nbconvert_exporter": "python",
   "pygments_lexer": "ipython3",
   "version": "3.6.0"
  }
 },
 "nbformat": 4,
 "nbformat_minor": 1
}
