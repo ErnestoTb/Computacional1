{
 "cells": [
  {
   "cell_type": "code",
   "execution_count": 1,
   "metadata": {
    "collapsed": true
   },
   "outputs": [],
   "source": [
    "import pandas as pd\n",
    "import scipy as sp\n",
    "import matplotlib.pyplot as plt\n",
    "from scipy.fftpack import fft, fftfreq, fftshift\n",
    "import datetime\n",
    "from datetime import datetime"
   ]
  },
  {
   "cell_type": "code",
   "execution_count": 2,
   "metadata": {
    "collapsed": false
   },
   "outputs": [],
   "source": [
    "datos= pd.read_csv(\"szl_data.csv\", names = (\"Anio\", \"Mes\", \"dia\", \"Hora\", \"Altura\" ), header = 0)\n",
    "#altura está en mm"
   ]
  },
  {
   "cell_type": "code",
   "execution_count": 3,
   "metadata": {
    "collapsed": false
   },
   "outputs": [],
   "source": [
    "df = datos.dropna()"
   ]
  },
  {
   "cell_type": "code",
   "execution_count": 4,
   "metadata": {
    "collapsed": false
   },
   "outputs": [],
   "source": [
    "df['date']= df.apply(lambda x:datetime.strptime(\"{0} {1} {2} {3}\".format(x[u'Anio'],x[u'Mes'], x[u'dia'], x[u'Hora']), \"%Y %m %d %H\"),axis=1)"
   ]
  },
  {
   "cell_type": "code",
   "execution_count": 5,
   "metadata": {
    "collapsed": false
   },
   "outputs": [],
   "source": [
    "df['Altura'] =pd.to_numeric(df['Altura'], errors = 'coerse')"
   ]
  },
  {
   "cell_type": "code",
   "execution_count": 6,
   "metadata": {
    "collapsed": false
   },
   "outputs": [
    {
     "data": {
      "text/html": [
       "<div>\n",
       "<table border=\"1\" class=\"dataframe\">\n",
       "  <thead>\n",
       "    <tr style=\"text-align: right;\">\n",
       "      <th></th>\n",
       "      <th>Anio</th>\n",
       "      <th>Mes</th>\n",
       "      <th>dia</th>\n",
       "      <th>Hora</th>\n",
       "      <th>Altura</th>\n",
       "      <th>date</th>\n",
       "    </tr>\n",
       "  </thead>\n",
       "  <tbody>\n",
       "    <tr>\n",
       "      <th>0</th>\n",
       "      <td>2016</td>\n",
       "      <td>1</td>\n",
       "      <td>1</td>\n",
       "      <td>0</td>\n",
       "      <td>670.0</td>\n",
       "      <td>2016-01-01 00:00:00</td>\n",
       "    </tr>\n",
       "    <tr>\n",
       "      <th>1</th>\n",
       "      <td>2016</td>\n",
       "      <td>1</td>\n",
       "      <td>1</td>\n",
       "      <td>1</td>\n",
       "      <td>506.0</td>\n",
       "      <td>2016-01-01 01:00:00</td>\n",
       "    </tr>\n",
       "    <tr>\n",
       "      <th>2</th>\n",
       "      <td>2016</td>\n",
       "      <td>1</td>\n",
       "      <td>1</td>\n",
       "      <td>2</td>\n",
       "      <td>384.0</td>\n",
       "      <td>2016-01-01 02:00:00</td>\n",
       "    </tr>\n",
       "    <tr>\n",
       "      <th>3</th>\n",
       "      <td>2016</td>\n",
       "      <td>1</td>\n",
       "      <td>1</td>\n",
       "      <td>3</td>\n",
       "      <td>330.0</td>\n",
       "      <td>2016-01-01 03:00:00</td>\n",
       "    </tr>\n",
       "    <tr>\n",
       "      <th>4</th>\n",
       "      <td>2016</td>\n",
       "      <td>1</td>\n",
       "      <td>1</td>\n",
       "      <td>4</td>\n",
       "      <td>356.0</td>\n",
       "      <td>2016-01-01 04:00:00</td>\n",
       "    </tr>\n",
       "  </tbody>\n",
       "</table>\n",
       "</div>"
      ],
      "text/plain": [
       "   Anio  Mes  dia  Hora  Altura                date\n",
       "0  2016    1    1     0   670.0 2016-01-01 00:00:00\n",
       "1  2016    1    1     1   506.0 2016-01-01 01:00:00\n",
       "2  2016    1    1     2   384.0 2016-01-01 02:00:00\n",
       "3  2016    1    1     3   330.0 2016-01-01 03:00:00\n",
       "4  2016    1    1     4   356.0 2016-01-01 04:00:00"
      ]
     },
     "execution_count": 6,
     "metadata": {},
     "output_type": "execute_result"
    }
   ],
   "source": [
    "df.head()"
   ]
  },
  {
   "cell_type": "code",
   "execution_count": 7,
   "metadata": {
    "collapsed": false
   },
   "outputs": [],
   "source": [
    "df = df.dropna()"
   ]
  },
  {
   "cell_type": "code",
   "execution_count": 8,
   "metadata": {
    "collapsed": false
   },
   "outputs": [],
   "source": [
    "df_ft = df[(df['date'] >= '2016-01-01 00:00:00') & (df['date'] <= '2016-03-31 23:00:00')]"
   ]
  },
  {
   "cell_type": "code",
   "execution_count": 9,
   "metadata": {
    "collapsed": false
   },
   "outputs": [
    {
     "data": {
      "text/html": [
       "<div>\n",
       "<table border=\"1\" class=\"dataframe\">\n",
       "  <thead>\n",
       "    <tr style=\"text-align: right;\">\n",
       "      <th></th>\n",
       "      <th>Anio</th>\n",
       "      <th>Mes</th>\n",
       "      <th>dia</th>\n",
       "      <th>Hora</th>\n",
       "      <th>Altura</th>\n",
       "      <th>date</th>\n",
       "    </tr>\n",
       "  </thead>\n",
       "  <tbody>\n",
       "    <tr>\n",
       "      <th>0</th>\n",
       "      <td>2016</td>\n",
       "      <td>1</td>\n",
       "      <td>1</td>\n",
       "      <td>0</td>\n",
       "      <td>670.0</td>\n",
       "      <td>2016-01-01 00:00:00</td>\n",
       "    </tr>\n",
       "    <tr>\n",
       "      <th>1</th>\n",
       "      <td>2016</td>\n",
       "      <td>1</td>\n",
       "      <td>1</td>\n",
       "      <td>1</td>\n",
       "      <td>506.0</td>\n",
       "      <td>2016-01-01 01:00:00</td>\n",
       "    </tr>\n",
       "    <tr>\n",
       "      <th>2</th>\n",
       "      <td>2016</td>\n",
       "      <td>1</td>\n",
       "      <td>1</td>\n",
       "      <td>2</td>\n",
       "      <td>384.0</td>\n",
       "      <td>2016-01-01 02:00:00</td>\n",
       "    </tr>\n",
       "    <tr>\n",
       "      <th>3</th>\n",
       "      <td>2016</td>\n",
       "      <td>1</td>\n",
       "      <td>1</td>\n",
       "      <td>3</td>\n",
       "      <td>330.0</td>\n",
       "      <td>2016-01-01 03:00:00</td>\n",
       "    </tr>\n",
       "    <tr>\n",
       "      <th>4</th>\n",
       "      <td>2016</td>\n",
       "      <td>1</td>\n",
       "      <td>1</td>\n",
       "      <td>4</td>\n",
       "      <td>356.0</td>\n",
       "      <td>2016-01-01 04:00:00</td>\n",
       "    </tr>\n",
       "  </tbody>\n",
       "</table>\n",
       "</div>"
      ],
      "text/plain": [
       "   Anio  Mes  dia  Hora  Altura                date\n",
       "0  2016    1    1     0   670.0 2016-01-01 00:00:00\n",
       "1  2016    1    1     1   506.0 2016-01-01 01:00:00\n",
       "2  2016    1    1     2   384.0 2016-01-01 02:00:00\n",
       "3  2016    1    1     3   330.0 2016-01-01 03:00:00\n",
       "4  2016    1    1     4   356.0 2016-01-01 04:00:00"
      ]
     },
     "execution_count": 9,
     "metadata": {},
     "output_type": "execute_result"
    }
   ],
   "source": [
    "df_ft.head()"
   ]
  },
  {
   "cell_type": "code",
   "execution_count": 10,
   "metadata": {
    "collapsed": false
   },
   "outputs": [
    {
     "data": {
      "text/plain": [
       "Anio               int64:dense\n",
       "Mes                int64:dense\n",
       "dia                int64:dense\n",
       "Hora               int64:dense\n",
       "Altura           float64:dense\n",
       "date      datetime64[ns]:dense\n",
       "dtype: object"
      ]
     },
     "execution_count": 10,
     "metadata": {},
     "output_type": "execute_result"
    }
   ],
   "source": [
    "df_ft.ftypes"
   ]
  },
  {
   "cell_type": "code",
   "execution_count": 11,
   "metadata": {
    "collapsed": false
   },
   "outputs": [
    {
     "data": {
      "text/html": [
       "<div>\n",
       "<table border=\"1\" class=\"dataframe\">\n",
       "  <thead>\n",
       "    <tr style=\"text-align: right;\">\n",
       "      <th></th>\n",
       "      <th>Anio</th>\n",
       "      <th>Mes</th>\n",
       "      <th>dia</th>\n",
       "      <th>Hora</th>\n",
       "      <th>Altura</th>\n",
       "      <th>date</th>\n",
       "    </tr>\n",
       "  </thead>\n",
       "  <tbody>\n",
       "    <tr>\n",
       "      <th>2179</th>\n",
       "      <td>2016</td>\n",
       "      <td>3</td>\n",
       "      <td>31</td>\n",
       "      <td>19</td>\n",
       "      <td>266.0</td>\n",
       "      <td>2016-03-31 19:00:00</td>\n",
       "    </tr>\n",
       "    <tr>\n",
       "      <th>2180</th>\n",
       "      <td>2016</td>\n",
       "      <td>3</td>\n",
       "      <td>31</td>\n",
       "      <td>20</td>\n",
       "      <td>366.0</td>\n",
       "      <td>2016-03-31 20:00:00</td>\n",
       "    </tr>\n",
       "    <tr>\n",
       "      <th>2181</th>\n",
       "      <td>2016</td>\n",
       "      <td>3</td>\n",
       "      <td>31</td>\n",
       "      <td>21</td>\n",
       "      <td>503.0</td>\n",
       "      <td>2016-03-31 21:00:00</td>\n",
       "    </tr>\n",
       "    <tr>\n",
       "      <th>2182</th>\n",
       "      <td>2016</td>\n",
       "      <td>3</td>\n",
       "      <td>31</td>\n",
       "      <td>22</td>\n",
       "      <td>645.0</td>\n",
       "      <td>2016-03-31 22:00:00</td>\n",
       "    </tr>\n",
       "    <tr>\n",
       "      <th>2183</th>\n",
       "      <td>2016</td>\n",
       "      <td>3</td>\n",
       "      <td>31</td>\n",
       "      <td>23</td>\n",
       "      <td>763.0</td>\n",
       "      <td>2016-03-31 23:00:00</td>\n",
       "    </tr>\n",
       "  </tbody>\n",
       "</table>\n",
       "</div>"
      ],
      "text/plain": [
       "      Anio  Mes  dia  Hora  Altura                date\n",
       "2179  2016    3   31    19   266.0 2016-03-31 19:00:00\n",
       "2180  2016    3   31    20   366.0 2016-03-31 20:00:00\n",
       "2181  2016    3   31    21   503.0 2016-03-31 21:00:00\n",
       "2182  2016    3   31    22   645.0 2016-03-31 22:00:00\n",
       "2183  2016    3   31    23   763.0 2016-03-31 23:00:00"
      ]
     },
     "execution_count": 11,
     "metadata": {},
     "output_type": "execute_result"
    }
   ],
   "source": [
    "df_ft.tail()"
   ]
  },
  {
   "cell_type": "code",
   "execution_count": 12,
   "metadata": {
    "collapsed": false
   },
   "outputs": [
    {
     "data": {
      "text/html": [
       "<div>\n",
       "<table border=\"1\" class=\"dataframe\">\n",
       "  <thead>\n",
       "    <tr style=\"text-align: right;\">\n",
       "      <th></th>\n",
       "      <th>Anio</th>\n",
       "      <th>Mes</th>\n",
       "      <th>dia</th>\n",
       "      <th>Hora</th>\n",
       "      <th>Altura</th>\n",
       "    </tr>\n",
       "  </thead>\n",
       "  <tbody>\n",
       "    <tr>\n",
       "      <th>count</th>\n",
       "      <td>2184.0</td>\n",
       "      <td>2184.000000</td>\n",
       "      <td>2184.000000</td>\n",
       "      <td>2184.000000</td>\n",
       "      <td>2184.000000</td>\n",
       "    </tr>\n",
       "    <tr>\n",
       "      <th>mean</th>\n",
       "      <td>2016.0</td>\n",
       "      <td>2.000000</td>\n",
       "      <td>15.681319</td>\n",
       "      <td>11.500000</td>\n",
       "      <td>787.375000</td>\n",
       "    </tr>\n",
       "    <tr>\n",
       "      <th>std</th>\n",
       "      <td>0.0</td>\n",
       "      <td>0.825609</td>\n",
       "      <td>8.778701</td>\n",
       "      <td>6.923772</td>\n",
       "      <td>452.832935</td>\n",
       "    </tr>\n",
       "    <tr>\n",
       "      <th>min</th>\n",
       "      <td>2016.0</td>\n",
       "      <td>1.000000</td>\n",
       "      <td>1.000000</td>\n",
       "      <td>0.000000</td>\n",
       "      <td>-297.000000</td>\n",
       "    </tr>\n",
       "    <tr>\n",
       "      <th>25%</th>\n",
       "      <td>2016.0</td>\n",
       "      <td>1.000000</td>\n",
       "      <td>8.000000</td>\n",
       "      <td>5.750000</td>\n",
       "      <td>476.000000</td>\n",
       "    </tr>\n",
       "    <tr>\n",
       "      <th>50%</th>\n",
       "      <td>2016.0</td>\n",
       "      <td>2.000000</td>\n",
       "      <td>16.000000</td>\n",
       "      <td>11.500000</td>\n",
       "      <td>775.000000</td>\n",
       "    </tr>\n",
       "    <tr>\n",
       "      <th>75%</th>\n",
       "      <td>2016.0</td>\n",
       "      <td>3.000000</td>\n",
       "      <td>23.000000</td>\n",
       "      <td>17.250000</td>\n",
       "      <td>1124.500000</td>\n",
       "    </tr>\n",
       "    <tr>\n",
       "      <th>max</th>\n",
       "      <td>2016.0</td>\n",
       "      <td>3.000000</td>\n",
       "      <td>31.000000</td>\n",
       "      <td>23.000000</td>\n",
       "      <td>1886.000000</td>\n",
       "    </tr>\n",
       "  </tbody>\n",
       "</table>\n",
       "</div>"
      ],
      "text/plain": [
       "         Anio          Mes          dia         Hora       Altura\n",
       "count  2184.0  2184.000000  2184.000000  2184.000000  2184.000000\n",
       "mean   2016.0     2.000000    15.681319    11.500000   787.375000\n",
       "std       0.0     0.825609     8.778701     6.923772   452.832935\n",
       "min    2016.0     1.000000     1.000000     0.000000  -297.000000\n",
       "25%    2016.0     1.000000     8.000000     5.750000   476.000000\n",
       "50%    2016.0     2.000000    16.000000    11.500000   775.000000\n",
       "75%    2016.0     3.000000    23.000000    17.250000  1124.500000\n",
       "max    2016.0     3.000000    31.000000    23.000000  1886.000000"
      ]
     },
     "execution_count": 12,
     "metadata": {},
     "output_type": "execute_result"
    }
   ],
   "source": [
    "df_ft.describe()"
   ]
  },
  {
   "cell_type": "code",
   "execution_count": 20,
   "metadata": {
    "collapsed": false
   },
   "outputs": [
    {
     "data": {
      "image/png": "[encoded data removed]",
      "text/plain": [
       "<matplotlib.figure.Figure at 0x2bd4967d0b8>"
      ]
     },
     "metadata": {},
     "output_type": "display_data"
    }
   ],
   "source": [
    "from scipy.fftpack import fft, fftfreq, fftshift\n",
    "import numpy as np\n",
    "# number of points\n",
    "N = 2184\n",
    "# sample spacing\n",
    "T = 1.0\n",
    "y = df_ft[\"Altura\"]/1000\n",
    "yf = fft(y)\n",
    "xf = fftfreq(N, T)\n",
    "xf = fftshift(xf)\n",
    "yplot = fftshift(yf)\n",
    "import matplotlib.pyplot as plt\n",
    "plt.plot(xf, 1.0/N *np.abs(yplot), 'b-')\n",
    "plt.xlim(-0.01, 0.15) \n",
    "plt.grid(True)\n",
    "plt.xlabel('Frecuencia [1/hora]', fontsize=14)\n",
    "plt.ylabel('Amplitud [m]', fontsize=14)\n",
    "plt.title('Análisis armónico de la marea presentada en El Sauzal, Ensenada (Ene-Mar 2016)', fontsize=15)\n",
    "fig = plt.gcf()\n",
    "fig.set_size_inches(15, 8)\n",
    "plt.show()"
   ]
  },
  {
   "cell_type": "code",
   "execution_count": 14,
   "metadata": {
    "collapsed": false
   },
   "outputs": [
    {
     "data": {
      "text/plain": [
       "array([ 0.787375  ,  0.01676625,  0.00750436, ...,  0.01065301,\n",
       "        0.00750436,  0.01676625])"
      ]
     },
     "execution_count": 14,
     "metadata": {},
     "output_type": "execute_result"
    }
   ],
   "source": [
    "a = np.absolute(yf)/N #N es el numero de datos especificado en donde se trabajó con la transformada rapida de fourier\n",
    "a"
   ]
  },
  {
   "cell_type": "code",
   "execution_count": 15,
   "metadata": {
    "collapsed": false
   },
   "outputs": [
    {
     "data": {
      "text/plain": [
       "1092.0"
      ]
     },
     "execution_count": 15,
     "metadata": {},
     "output_type": "execute_result"
    }
   ],
   "source": [
    "N/2"
   ]
  },
  {
   "cell_type": "code",
   "execution_count": 16,
   "metadata": {
    "collapsed": false
   },
   "outputs": [
    {
     "name": "stdout",
     "output_type": "stream",
     "text": [
      "(array([   0,   85,   91,   92,  173,  175,  176,  182, 2002, 2008, 2009,\n",
      "       2011, 2092, 2093, 2099], dtype=int64),)\n"
     ]
    },
    {
     "data": {
      "text/plain": [
       "array([ 0.787375  ,  0.06116306,  0.12211821,  0.04636385,  0.04916663,\n",
       "        0.05419251,  0.23289058,  0.10834019,  0.10834019,  0.23289058,\n",
       "        0.05419251,  0.04916663,  0.04636385,  0.12211821,  0.06116306])"
      ]
     },
     "execution_count": 16,
     "metadata": {},
     "output_type": "execute_result"
    }
   ],
   "source": [
    "\n",
    "print(np.where(a[:,]>0.045))\n",
    "b= a[a[:,]>0.045]\n",
    "b"
   ]
  },
  {
   "cell_type": "code",
   "execution_count": 17,
   "metadata": {
    "collapsed": false
   },
   "outputs": [
    {
     "data": {
      "text/plain": [
       "12.6242774566474"
      ]
     },
     "execution_count": 17,
     "metadata": {},
     "output_type": "execute_result"
    }
   ],
   "source": [
    "1/xf[int(1092 +173),]"
   ]
  },
  {
   "cell_type": "code",
   "execution_count": 18,
   "metadata": {
    "collapsed": false
   },
   "outputs": [
    {
     "name": "stdout",
     "output_type": "stream",
     "text": [
      "Primer Armónico notorio\n",
      "Amplitud= 0.0611630636175\n",
      "frecuencia= 0.0389194139194\n",
      "periodo 25.6941176471\n",
      "\n",
      "Segundo Armónico notorio\n",
      "Amplitud= 0.122118205378\n",
      "frecuencia= 0.0416666666667\n",
      "periodo 24.0\n",
      "\n",
      "Tercer Armónico notorio\n",
      "Amplitud= 0.0491666306361\n",
      "frecuencia= 0.0792124542125\n",
      "periodo 12.6242774566\n",
      "\n",
      "Cuarto armónico notorio\n",
      "Amplitud= 0.232890581289\n",
      "frecuencia= 0.0805860805861\n",
      "periodo 12.4090909091\n",
      "\n",
      "Quinto armónico notorio\n",
      "Amplitud= 0.108340186303\n",
      "frecuencia= 0.0833333333333\n",
      "periodo 12.0\n"
     ]
    }
   ],
   "source": [
    "#La 0 es la que se encuentra en el origen, pues es la altura media que se presenta para las mareas en Monterey\n",
    "print( 'Primer Armónico notorio')\n",
    "print('Amplitud=',np.absolute(yf[85,]/N))\n",
    "print('frecuencia=', xf[int(1092 +85),])\n",
    "print('periodo', 1/xf[int(1092 +85),])\n",
    "print()\n",
    "print('Segundo Armónico notorio')\n",
    "print('Amplitud=',np.absolute(yf[91,]/N))\n",
    "print('frecuencia=', xf[int(1092 +91),])\n",
    "print('periodo', 1/xf[int(1092 +91),])\n",
    "\n",
    "print()\n",
    "print('Tercer Armónico notorio')\n",
    "print('Amplitud=',np.absolute(yf[173,]/N))\n",
    "print('frecuencia=', xf[int(1092 +173),])\n",
    "print('periodo', 1/xf[int(1092 +173),])\n",
    "\n",
    "print()\n",
    "print('Cuarto armónico notorio')\n",
    "print('Amplitud=',np.absolute(yf[176,]/N))\n",
    "print('frecuencia=', xf[int(1092 +176),])\n",
    "print('periodo', 1/xf[int(1092 +176),])\n",
    "\n",
    "print()\n",
    "print('Quinto armónico notorio')\n",
    "print('Amplitud=',np.absolute(yf[182,]/N))\n",
    "print('frecuencia=', xf[int(1092 +182),])\n",
    "print('periodo', 1/xf[int(1092 +182),])\n"
   ]
  },
  {
   "cell_type": "code",
   "execution_count": 21,
   "metadata": {
    "collapsed": false
   },
   "outputs": [
    {
     "data": {
      "image/png": "[encoded data removed]",
      "text/plain": [
       "<matplotlib.figure.Figure at 0x2bd49eafe10>"
      ]
     },
     "metadata": {},
     "output_type": "display_data"
    }
   ],
   "source": [
    "fig = plt.gcf()\n",
    "fig.set_size_inches(15, 8)\n",
    "\n",
    "plt.plot(xf, 1.0/N *np.abs(yplot), 'b-')\n",
    "plt.xlim(-0.01, 0.15) \n",
    "plt.grid(True)\n",
    "plt.xlabel('Frecuencia [1/hora]', fontsize=14)\n",
    "plt.ylabel('Amplitud [m]', fontsize=14)\n",
    "plt.title('Análisis armónico de la marea presentada en El Sauzal, Ensenada (Ene-Mar 2016)', fontsize=15)\n",
    "\n",
    "plt.text(0.0389194139194, 0.0611630636175, '$O_1$')\n",
    "plt.text(0.0416666666667, 0.122118205378, '$S_1$')\n",
    "plt.text(0.077, 0.0491666306361, '$N_2$')\n",
    "plt.text(0.0805860805861, 0.232890581289, '$M_2$')\n",
    "plt.text(0.0833333333333, 0.108340186303, '$S_2$')\n",
    "\n",
    "\n",
    "plt.show()\n"
   ]
  },
  {
   "cell_type": "code",
   "execution_count": null,
   "metadata": {
    "collapsed": true
   },
   "outputs": [],
   "source": []
  }
 ],
 "metadata": {
  "anaconda-cloud": {},
  "kernelspec": {
   "display_name": "Python 3",
   "language": "python",
   "name": "python3"
  },
  "language_info": {
   "codemirror_mode": {
    "name": "ipython",
    "version": 3
   },
   "file_extension": ".py",
   "mimetype": "text/x-python",
   "name": "python",
   "nbconvert_exporter": "python",
   "pygments_lexer": "ipython3",
   "version": "3.6.0"
  }
 },
 "nbformat": 4,
 "nbformat_minor": 1
}
